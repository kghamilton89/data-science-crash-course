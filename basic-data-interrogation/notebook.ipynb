{
 "cells": [
  {
   "cell_type": "markdown",
   "metadata": {},
   "source": [
    "# Interrogating and Inspecting the Data\n",
    "\n",
    "One of the most important first steps of any data science exercise is gaining a simple understanding of what the data you're working with is actually made up of.\n",
    "\n",
    "This notebook is going to cover all of the basics of statistical analysis and working with you data on a \"first principles\" basis.\n",
    "\n",
    "Make sure you've gone through [this notebook](../uploading-and-inspecting-data/notebook.ipynb) first, to understand how we upload the data we want to inspect!"
   ]
  },
  {
   "cell_type": "code",
   "execution_count": 2,
   "metadata": {},
   "outputs": [
    {
     "name": "stdout",
     "output_type": "stream",
     "text": [
      "                        search_query        time platform\n",
      "0              vacation spots recipe  1722760240   mobile\n",
      "1           what is invest in crypto  1734252942   mobile\n",
      "2                    AI tools recipe  1728010297  desktop\n",
      "3               best camera symptoms  1730697978   mobile\n",
      "4            best meditation near me  1735175397   mobile\n",
      "...                              ...         ...      ...\n",
      "9995     best vacation spots near me  1724048159   mobile\n",
      "9996                best flu near me  1712704022  desktop\n",
      "9997                can I cook pasta  1735612619  desktop\n",
      "9998     best get a mortgage near me  1723209855  desktop\n",
      "9999  best electric vehicles near me  1724506448   mobile\n",
      "\n",
      "[10000 rows x 3 columns]\n"
     ]
    }
   ],
   "source": [
    "import pandas as pd\n",
    "\n",
    "file_path = '../data/data.csv'\n",
    "\n",
    "df = pd.read_csv(file_path)\n",
    "\n",
    "print(df)"
   ]
  },
  {
   "cell_type": "markdown",
   "metadata": {},
   "source": [
    "## Great first steps\n",
    "\n",
    "The first thing you want to do as a data scientist working with a new dataset is get a basic understanding of what you've got in front of you. In order to familiarize yourself with such concepts in this datasets, lets use the `value_counts()` function to inspect the frequency of each of our underlying platform types!"
   ]
  },
  {
   "cell_type": "code",
   "execution_count": 3,
   "metadata": {},
   "outputs": [
    {
     "name": "stdout",
     "output_type": "stream",
     "text": [
      "Search query counts by platform:\n",
      "platform\n",
      "mobile     5065\n",
      "desktop    4935\n",
      "Name: count, dtype: int64\n"
     ]
    }
   ],
   "source": [
    "# Use the value_counts() function here, targeting the platform column\n",
    "platform_counts = df['platform'].value_counts()\n",
    "\n",
    "print(\"Search query counts by platform:\")\n",
    "print(platform_counts)"
   ]
  },
  {
   "cell_type": "code",
   "execution_count": 9,
   "metadata": {},
   "outputs": [
    {
     "name": "stdout",
     "output_type": "stream",
     "text": [
      "Normalized query counts by platform:\n",
      "platform\n",
      "mobile     0.5065\n",
      "desktop    0.4935\n",
      "Name: proportion, dtype: float64\n"
     ]
    }
   ],
   "source": [
    "# Let's have a look at the proportions of each value more directly\n",
    "\n",
    "norm_platform_counts = df['platform'].value_counts(normalize=True)\n",
    "\n",
    "print(\"Normalized query counts by platform:\")\n",
    "print(norm_platform_counts)"
   ]
  },
  {
   "cell_type": "code",
   "execution_count": 20,
   "metadata": {},
   "outputs": [
    {
     "name": "stdout",
     "output_type": "stream",
     "text": [
      "Platform usage breakdown:\n",
      "platform\n",
      "mobile     50.65%\n",
      "desktop    49.35%\n",
      "Name: proportion, dtype: object\n"
     ]
    }
   ],
   "source": [
    "# But what if we want to see them as proper percentages?\n",
    "\n",
    "platform_percent = df['platform'].value_counts(normalize=True) * 100\n",
    "platform_percent = platform_percent.map(\"{:.2f}%\".format)\n",
    "\n",
    "print(\"Platform usage breakdown:\")\n",
    "print(platform_percent)"
   ]
  },
  {
   "cell_type": "markdown",
   "metadata": {},
   "source": [
    "## Something a little more complicated\n",
    "\n",
    "Our `time` column is in [Unix time](https://en.wikipedia.org/wiki/Unix_time), which is a count of seconds from the so-called epoch. Read more on Wikipedia if you'd like to learn about the history of this value, as it's quite interesting!\n",
    "\n",
    "How can we, as data scientists, parse this value into something that's meaningful for us to work with?\n",
    "\n",
    "If you'd like to customize the `to_datetime` function, the [pandas documentation](https://tedboy.github.io/pandas/generated/pandas.to_datetime.html) has the information you might need!\n",
    "\n"
   ]
  },
  {
   "cell_type": "code",
   "execution_count": 25,
   "metadata": {},
   "outputs": [
    {
     "data": {
      "text/html": [
       "<div>\n",
       "<style scoped>\n",
       "    .dataframe tbody tr th:only-of-type {\n",
       "        vertical-align: middle;\n",
       "    }\n",
       "\n",
       "    .dataframe tbody tr th {\n",
       "        vertical-align: top;\n",
       "    }\n",
       "\n",
       "    .dataframe thead th {\n",
       "        text-align: right;\n",
       "    }\n",
       "</style>\n",
       "<table border=\"1\" class=\"dataframe\">\n",
       "  <thead>\n",
       "    <tr style=\"text-align: right;\">\n",
       "      <th></th>\n",
       "      <th>time</th>\n",
       "      <th>datetime</th>\n",
       "    </tr>\n",
       "  </thead>\n",
       "  <tbody>\n",
       "    <tr>\n",
       "      <th>0</th>\n",
       "      <td>1722760240</td>\n",
       "      <td>2024-08-04 08:30:40</td>\n",
       "    </tr>\n",
       "    <tr>\n",
       "      <th>1</th>\n",
       "      <td>1734252942</td>\n",
       "      <td>2024-12-15 08:55:42</td>\n",
       "    </tr>\n",
       "    <tr>\n",
       "      <th>2</th>\n",
       "      <td>1728010297</td>\n",
       "      <td>2024-10-04 02:51:37</td>\n",
       "    </tr>\n",
       "    <tr>\n",
       "      <th>3</th>\n",
       "      <td>1730697978</td>\n",
       "      <td>2024-11-04 05:26:18</td>\n",
       "    </tr>\n",
       "    <tr>\n",
       "      <th>4</th>\n",
       "      <td>1735175397</td>\n",
       "      <td>2024-12-26 01:09:57</td>\n",
       "    </tr>\n",
       "  </tbody>\n",
       "</table>\n",
       "</div>"
      ],
      "text/plain": [
       "         time            datetime\n",
       "0  1722760240 2024-08-04 08:30:40\n",
       "1  1734252942 2024-12-15 08:55:42\n",
       "2  1728010297 2024-10-04 02:51:37\n",
       "3  1730697978 2024-11-04 05:26:18\n",
       "4  1735175397 2024-12-26 01:09:57"
      ]
     },
     "execution_count": 25,
     "metadata": {},
     "output_type": "execute_result"
    }
   ],
   "source": [
    "# Convert the 'time' column from UNIX time to a readable datetime format\n",
    "df['datetime'] = pd.to_datetime(df['time'], unit='s')\n",
    "\n",
    "# Show the first few rows to confirm the conversion worked\n",
    "df[['time', 'datetime']].head()\n"
   ]
  },
  {
   "cell_type": "markdown",
   "metadata": {},
   "source": [
    "## But now what?\n",
    "\n",
    "Okay, great! We've converted our Unix time column into something a little more readable. But now what? We still aren't able to make very many meaningful observations from a list of 10,0000 datatimes!\n",
    "\n",
    "A great next step is to get an idea of the observed time period of our data."
   ]
  },
  {
   "cell_type": "code",
   "execution_count": 26,
   "metadata": {},
   "outputs": [
    {
     "name": "stdout",
     "output_type": "stream",
     "text": [
      "Time range of search queries:\n",
      "Earliest: 2024-03-28 07:47:41\n",
      "Latest:   2025-03-28 07:30:25\n"
     ]
    }
   ],
   "source": [
    "print(\"Time range of search queries:\")\n",
    "print(\"Earliest:\", df['datetime'].min())\n",
    "print(\"Latest:  \", df['datetime'].max())\n"
   ]
  },
  {
   "cell_type": "markdown",
   "metadata": {},
   "source": [
    "## And then...\n",
    "\n",
    "So we understand now that our data is looking at a window from March 28, 2024 all the way up to March 28, 2025. Let's have a look at some trends by creating visualizations that will show any seasonality in our data.\n",
    "\n",
    "In makes sense to look at query counts by month, by hour of the day, and by day of the week in this context."
   ]
  },
  {
   "cell_type": "code",
   "execution_count": 28,
   "metadata": {},
   "outputs": [],
   "source": [
    "# The first thing we need to do is define some of our global matplotlib variables.\n",
    "import matplotlib.pyplot as plt\n",
    "\n",
    "# Let's get some of the important values out of our newly created datetime plot.\n",
    "df['month'] = df['datetime'].dt.month\n",
    "df['hour'] = df['datetime'].dt.hour\n",
    "df['day_of_week'] = df['datetime'].dt.day_name()\n"
   ]
  },
  {
   "cell_type": "code",
   "execution_count": 44,
   "metadata": {},
   "outputs": [
    {
     "data": {
      "image/png": "[encoded data removed]",
      "text/plain": [
       "<Figure size 800x400 with 1 Axes>"
      ]
     },
     "metadata": {},
     "output_type": "display_data"
    }
   ],
   "source": [
    "# Count number of queries by month\n",
    "monthly_counts = df['month'].value_counts().sort_index()\n",
    "\n",
    "plt.figure(figsize=(8, 4))\n",
    "monthly_counts.plot(kind='bar')\n",
    "plt.show()"
   ]
  },
  {
   "cell_type": "code",
   "execution_count": 37,
   "metadata": {},
   "outputs": [
    {
     "data": {
      "image/png": "[encoded data removed]",
      "text/plain": [
       "<Figure size 640x480 with 1 Axes>"
      ]
     },
     "metadata": {},
     "output_type": "display_data"
    }
   ],
   "source": [
    "#\n",
    "\n",
    "# Count number of queries by hour (0–23)\n",
    "hourly_counts = df['hour'].value_counts().sort_index()\n",
    "\n",
    "plt.figure()\n",
    "hourly_counts.plot(kind='bar')\n",
    "plt.show()"
   ]
  },
  {
   "cell_type": "code",
   "execution_count": 38,
   "metadata": {},
   "outputs": [
    {
     "data": {
      "image/png": "[encoded data removed]",
      "text/plain": [
       "<Figure size 800x400 with 1 Axes>"
      ]
     },
     "metadata": {},
     "output_type": "display_data"
    }
   ],
   "source": [
    "#\n",
    "\n",
    "# Count number of queries by day of the week (in correct order)\n",
    "ordered_days = ['Monday', 'Tuesday', 'Wednesday', 'Thursday', 'Friday', 'Saturday', 'Sunday']\n",
    "weekly_counts = df['day_of_week'].value_counts().reindex(ordered_days)\n",
    "\n",
    "plt.figure(figsize=(8, 4))\n",
    "weekly_counts.plot(kind='bar')\n",
    "plt.show()"
   ]
  }
 ],
 "metadata": {
  "kernelspec": {
   "display_name": "yandex-tt",
   "language": "python",
   "name": "python3"
  },
  "language_info": {
   "codemirror_mode": {
    "name": "ipython",
    "version": 3
   },
   "file_extension": ".py",
   "mimetype": "text/x-python",
   "name": "python",
   "nbconvert_exporter": "python",
   "pygments_lexer": "ipython3",
   "version": "3.12.9"
  }
 },
 "nbformat": 4,
 "nbformat_minor": 2
}
