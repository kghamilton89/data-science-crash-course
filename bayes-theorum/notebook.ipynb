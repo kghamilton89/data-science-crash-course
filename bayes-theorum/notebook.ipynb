{
 "cells": [
  {
   "cell_type": "code",
   "execution_count": null,
   "metadata": {},
   "outputs": [],
   "source": [
    "def bayes_theorem(prior, likelihood, marginal):\n",
    "    \"\"\"\n",
    "    Calculate posterior using Bayes' Theorem.\n",
    "\n",
    "    Parameters:\n",
    "        prior (float): P(A) - prior probability\n",
    "        likelihood (float): P(B|A) - likelihood\n",
    "        marginal (float): P(B) - marginal probability\n",
    "\n",
    "    Returns:\n",
    "        float: Posterior probability P(A|B)\n",
    "    \"\"\"\n",
    "    if marginal == 0:\n",
    "        raise ValueError(\"Marginal probability cannot be zero.\")\n",
    "    \n",
    "    posterior = (likelihood * prior) / marginal\n",
    "    return posterior\n",
    "\n",
    "# Example usage:\n",
    "# P(Disease) = 0.01\n",
    "# P(Positive Test | Disease) = 0.99\n",
    "# P(Positive Test) = 0.05\n",
    "\n",
    "prior = 0.01\n",
    "likelihood = 0.99\n",
    "marginal = 0.05\n",
    "\n",
    "posterior = bayes_theorem(prior, likelihood, marginal)\n",
    "print(f\"Posterior Probability: {posterior:.4f}\")\n"
   ]
  }
 ],
 "metadata": {
  "language_info": {
   "name": "python"
  }
 },
 "nbformat": 4,
 "nbformat_minor": 2
}
