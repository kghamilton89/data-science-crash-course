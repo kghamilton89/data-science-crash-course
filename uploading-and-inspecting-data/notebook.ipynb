{
 "cells": [
  {
   "cell_type": "markdown",
   "metadata": {},
   "source": [
    "# Uploading and Inspecting Data\n",
    "\n",
    "The purpose of this notebook is to access data of different types, convert it into a pandas data frame and then do some basic interrogation and inspection of it, before moving on to work with it at a more granular level.\n",
    "\n",
    "The first thing we need to do is actually access the data (stored in `~/data`). Use the cell below to select the dataset that you'd like to work with! All the data is same, but each dataset is in a different format so you can practive working with whatever format suits you."
   ]
  },
  {
   "cell_type": "code",
   "execution_count": 17,
   "metadata": {},
   "outputs": [],
   "source": [
    "import pandas as pd\n",
    "\n",
    "# This tutorial will use the CSV data default, but you may wish to use a different format. Just uncomment out the line which you'd like to work with!\n",
    "file_path = '../data/data.csv'\n",
    "# file_path = '../data/data.json'\n",
    "# file_path = '../data/data.md'\n",
    "# file_path = '../data/data.txt'\n",
    "# file_path = '../data/data.xml'"
   ]
  },
  {
   "cell_type": "markdown",
   "metadata": {},
   "source": [
    "## Having the first look\n",
    "\n",
    "`pandas` provides a number of easy-to-use functions to convert your data into a DataFrame. Read more about [DataFrames](https://pandas.pydata.org/pandas-docs/stable/reference/api/pandas.DataFrame.html) if you are not familiar with this terminolgy.\n",
    "\n",
    "Put simply, a DataFrame is like a table created in memory that you can work with similarly to those you'd find in a database, with certain small but important differences that we'll explore later."
   ]
  },
  {
   "cell_type": "code",
   "execution_count": 25,
   "metadata": {},
   "outputs": [
    {
     "name": "stdout",
     "output_type": "stream",
     "text": [
      "                        search_query        time platform\n",
      "0              vacation spots recipe  1722760240   mobile\n",
      "1           what is invest in crypto  1734252942   mobile\n",
      "2                    AI tools recipe  1728010297  desktop\n",
      "3               best camera symptoms  1730697978   mobile\n",
      "4            best meditation near me  1735175397   mobile\n",
      "...                              ...         ...      ...\n",
      "9995     best vacation spots near me  1724048159   mobile\n",
      "9996                best flu near me  1712704022  desktop\n",
      "9997                can I cook pasta  1735612619  desktop\n",
      "9998     best get a mortgage near me  1723209855  desktop\n",
      "9999  best electric vehicles near me  1724506448   mobile\n",
      "\n",
      "[10000 rows x 3 columns]\n"
     ]
    }
   ],
   "source": [
    "# we'll use the read_{file_type} function to convert our raw data into a DataFrame. Again, uncomment the line which applies to the data format that you'd like to work with.\n",
    "df = pd.read_csv(file_path)\n",
    "# df = pd.read_json(file_path)\n",
    "# df = pd.read_xml(file_path)\n",
    "\n",
    "print(df)"
   ]
  },
  {
   "cell_type": "markdown",
   "metadata": {},
   "source": [
    "### A note about `.txt` and `.md` formats\n",
    "\n",
    "There is not pandas-native way to directly load files in Markdown (`.md`) or plaintext (`.txt`), but this is a really easy fix. Use the cells below if you'd like to work with those files types (otherwise, feel free to skip)"
   ]
  },
  {
   "cell_type": "code",
   "execution_count": 16,
   "metadata": {},
   "outputs": [
    {
     "name": "stdout",
     "output_type": "stream",
     "text": [
      "                        search_query        time platform\n",
      "0              vacation spots recipe  1722760240   mobile\n",
      "1           what is invest in crypto  1734252942   mobile\n",
      "2                    AI tools recipe  1728010297  desktop\n",
      "3               best camera symptoms  1730697978   mobile\n",
      "4            best meditation near me  1735175397   mobile\n",
      "...                              ...         ...      ...\n",
      "9995     best vacation spots near me  1724048159   mobile\n",
      "9996                best flu near me  1712704022  desktop\n",
      "9997                can I cook pasta  1735612619  desktop\n",
      "9998     best get a mortgage near me  1723209855  desktop\n",
      "9999  best electric vehicles near me  1724506448   mobile\n",
      "\n",
      "[10000 rows x 3 columns]\n"
     ]
    }
   ],
   "source": [
    "import pandas as pd\n",
    "\n",
    "# Load a tab-separated .txt file into a DataFrame\n",
    "df = pd.read_csv(file_path, sep=\"\\t\")\n",
    "\n",
    "print(df)"
   ]
  },
  {
   "cell_type": "code",
   "execution_count": 24,
   "metadata": {},
   "outputs": [
    {
     "data": {
      "text/html": [
       "<div>\n",
       "<style scoped>\n",
       "    .dataframe tbody tr th:only-of-type {\n",
       "        vertical-align: middle;\n",
       "    }\n",
       "\n",
       "    .dataframe tbody tr th {\n",
       "        vertical-align: top;\n",
       "    }\n",
       "\n",
       "    .dataframe thead th {\n",
       "        text-align: right;\n",
       "    }\n",
       "</style>\n",
       "<table border=\"1\" class=\"dataframe\">\n",
       "  <thead>\n",
       "    <tr style=\"text-align: right;\">\n",
       "      <th></th>\n",
       "      <th>search_query</th>\n",
       "      <th>time</th>\n",
       "      <th>platform</th>\n",
       "    </tr>\n",
       "  </thead>\n",
       "  <tbody>\n",
       "    <tr>\n",
       "      <th>0</th>\n",
       "      <td>vacation spots recipe</td>\n",
       "      <td>1722760240</td>\n",
       "      <td>mobile</td>\n",
       "    </tr>\n",
       "    <tr>\n",
       "      <th>1</th>\n",
       "      <td>what is invest in crypto</td>\n",
       "      <td>1734252942</td>\n",
       "      <td>mobile</td>\n",
       "    </tr>\n",
       "    <tr>\n",
       "      <th>2</th>\n",
       "      <td>AI tools recipe</td>\n",
       "      <td>1728010297</td>\n",
       "      <td>desktop</td>\n",
       "    </tr>\n",
       "    <tr>\n",
       "      <th>3</th>\n",
       "      <td>best camera symptoms</td>\n",
       "      <td>1730697978</td>\n",
       "      <td>mobile</td>\n",
       "    </tr>\n",
       "    <tr>\n",
       "      <th>4</th>\n",
       "      <td>best meditation near me</td>\n",
       "      <td>1735175397</td>\n",
       "      <td>mobile</td>\n",
       "    </tr>\n",
       "  </tbody>\n",
       "</table>\n",
       "</div>"
      ],
      "text/plain": [
       "   search_query                              time   platform\n",
       "0  vacation spots recipe                1722760240    mobile\n",
       "1  what is invest in crypto             1734252942    mobile\n",
       "2  AI tools recipe                      1728010297   desktop\n",
       "3  best camera symptoms                 1730697978    mobile\n",
       "4  best meditation near me              1735175397    mobile"
      ]
     },
     "execution_count": 24,
     "metadata": {},
     "output_type": "execute_result"
    }
   ],
   "source": [
    "# We can do the same thing with Markdown files, but we'll need a few more steps to do so\n",
    "\n",
    "import pandas as pd\n",
    "from io import StringIO\n",
    "\n",
    "with open(\"../data/data.md\", \"r\") as f:\n",
    "    md_text = f.read()\n",
    "\n",
    "# Clean the Markdown to get just the table\n",
    "lines = md_text.strip().splitlines()\n",
    "clean_lines = [\n",
    "    line for line in lines \n",
    "    if not set(line.strip()).issubset(set(\"|:- \"))  # this filters out rows like |:------|----:|\n",
    "]\n",
    "\n",
    "# Convert Markdown-style table into CSV-style text\n",
    "csv_text = \"\\n\".join([line.replace(\"|\", \",\")[1:-1].strip() for line in clean_lines])\n",
    "\n",
    "# Load it using StringIO\n",
    "data = StringIO(csv_text)\n",
    "\n",
    "# Step 5: Create DataFrame\n",
    "df = pd.read_csv(data)\n",
    "\n",
    "# Show the first few rows\n",
    "df.head()\n"
   ]
  },
  {
   "cell_type": "markdown",
   "metadata": {},
   "source": [
    "## Conclusions\n",
    "\n",
    "Okay great! We've got our dataset from whichever format we've chosen loaded, and now we can work with it in the [next notebook](../basic-data-interrogation/notebook.ipynb)!"
   ]
  }
 ],
 "metadata": {
  "kernelspec": {
   "display_name": "yandex-tt",
   "language": "python",
   "name": "python3"
  },
  "language_info": {
   "codemirror_mode": {
    "name": "ipython",
    "version": 3
   },
   "file_extension": ".py",
   "mimetype": "text/x-python",
   "name": "python",
   "nbconvert_exporter": "python",
   "pygments_lexer": "ipython3",
   "version": "3.12.9"
  }
 },
 "nbformat": 4,
 "nbformat_minor": 2
}
