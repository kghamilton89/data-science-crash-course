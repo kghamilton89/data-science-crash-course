{
 "cells": [
  {
   "cell_type": "markdown",
   "metadata": {},
   "source": [
    "# Working with Pickled Data\n",
    "\n",
    "Pickled (`.pkl`) data in Python refers to a serialized format used to store Python objects in a binary file. \n",
    "\n",
    "The pickle module allows complex data structures—like lists, dictionaries, tuples, classes, and even functions—to be saved and later restored exactly as they were. \n",
    "\n",
    "Unlike formats like JSON or CSV, Pickle preserves Python-specific types and object hierarchies. It's ideal for saving machine learning models, session states, or any Python-native data so if you work in the data science field for long enough, you're bound to come across this data type. \n",
    "\n",
    "**Please note, Pickle files are not human-readable and should never be loaded from untrusted sources, as they can execute arbitrary code during deserialization.**\n",
    "\n",
    "I've included some `.pkl` datasets in the `./data` folder and will be using them for this tutorial, but I'm just a guy on the internet, so I'd wholeheartedly encourage you to generate some synthetic `.pkl` data of your own to work with for this workbook. It's just a good habit to be in."
   ]
  },
  {
   "cell_type": "code",
   "execution_count": 4,
   "metadata": {},
   "outputs": [
    {
     "name": "stdout",
     "output_type": "stream",
     "text": [
      "Resultant DataFrame created from Pickle file:\n",
      "               search_query        time platform\n",
      "0     vacation spots recipe  1722760240   mobile\n",
      "1  what is invest in crypto  1734252942   mobile\n",
      "2           AI tools recipe  1728010297  desktop\n",
      "3      best camera symptoms  1730697978   mobile\n",
      "4   best meditation near me  1735175397   mobile\n"
     ]
    }
   ],
   "source": [
    "# Our ~/data repo has 4 .pkl files, representing some of the common types of data stored in this format:\n",
    "    # data_dict_of_lists.pkl\n",
    "    # data_list_of_dicts.pkl\n",
    "    # data_tuple_of_tuples.pkl\n",
    "    # data_structures.pkl\n",
    "\n",
    "# We'll cover data_structures.pkl at the end of the tutorial as the only difference there is that you'll be importing multiple types of data.\n",
    "# This is going to be a rarer occurance in your world most likely, but still something you may come across and ought to be prepared to unpack.\n",
    "\n",
    "import pickle\n",
    "import pandas as pd\n",
    "\n",
    "\n",
    "# Uncomment the type of file that you'd like to work with\n",
    "file_path = \"../data/data_list_of_dicts.pkl\"\n",
    "# file_path = \"../data/data_tuple_of_tuples.pkl\"\n",
    "# file_path = \"../data/data_dict_of_lists.pkl\"\n",
    "\n",
    "with open(file_path, \"rb\") as f:\n",
    "    file = pickle.load(f)\n",
    "\n",
    "df = pd.DataFrame(file)\n",
    "\n",
    "# Print the first few rows of each DataFrame\n",
    "print(\"Resultant DataFrame created from Pickle file:\")\n",
    "print(df.head())\n"
   ]
  },
  {
   "cell_type": "markdown",
   "metadata": {},
   "source": [
    "## A word about each of these data types\n",
    "\n",
    "- `data_dict_of_lists.pkl`\n",
    "\n",
    "A dictionary where each key is a column name, and each value is a list of column values.\n",
    "\n",
    "```python\n",
    "{\n",
    "  \"name\": [\"Alice\", \"Bob\", \"Charlie\"],\n",
    "  \"age\": [30, 25, 35],\n",
    "  \"city\": [\"London\", \"Paris\", \"Berlin\"]\n",
    "}\n",
    "```\n",
    "\n",
    "Think of it like a spreadsheet stored by column.\n",
    "\n",
    "-----\n",
    "\n",
    "- `data_list_of_dicts.pkl`\n",
    "  \n",
    "A list where each item is a dictionary representing a row.\n",
    "\n",
    "```python\n",
    "[\n",
    "  {\"name\": \"Alice\", \"age\": 30, \"city\": \"London\"},\n",
    "  {\"name\": \"Bob\", \"age\": 25, \"city\": \"Paris\"},\n",
    "  {\"name\": \"Charlie\", \"age\": 35, \"city\": \"Berlin\"}\n",
    "]\n",
    "```\n",
    "\n",
    "This is a row-by-row format — easy to use with JSON, APIs, or MongoDB.\n",
    "\n",
    "-----\n",
    "\n",
    "- `data_tuple_of_tuples.pkl`\n",
    "\n",
    "A tuple of immutable records — each one is a flat tuple of values.\n",
    "\n",
    "```python\n",
    "(\n",
    "  (\"Alice\", 30, \"London\"),\n",
    "  (\"Bob\", 25, \"Paris\"),\n",
    "  (\"Charlie\", 35, \"Berlin\")\n",
    ")\n",
    "```\n",
    "\n",
    "This is a lightweight, fixed-shape format that’s efficient for iteration or indexing.\n",
    "\n"
   ]
  },
  {
   "cell_type": "markdown",
   "metadata": {},
   "source": [
    "## Conclusion\n",
    "\n",
    "Once we've unpickled our data, we're ready to use it just like any other `pandas` DataFrame!\n",
    "\n",
    "You're ready to move on to [Basic Data Interrogation](../basic-data-interrogation/notebook.ipynb)."
   ]
  }
 ],
 "metadata": {
  "kernelspec": {
   "display_name": "yandex-tt",
   "language": "python",
   "name": "python3"
  },
  "language_info": {
   "codemirror_mode": {
    "name": "ipython",
    "version": 3
   },
   "file_extension": ".py",
   "mimetype": "text/x-python",
   "name": "python",
   "nbconvert_exporter": "python",
   "pygments_lexer": "ipython3",
   "version": "3.12.9"
  }
 },
 "nbformat": 4,
 "nbformat_minor": 2
}
